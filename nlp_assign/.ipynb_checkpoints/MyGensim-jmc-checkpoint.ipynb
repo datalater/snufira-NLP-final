{
 "cells": [
  {
   "cell_type": "code",
   "execution_count": 33,
   "metadata": {
    "collapsed": true
   },
   "outputs": [],
   "source": [
    "import codecs\n",
    "\n",
    "import sys\n",
    "stdout = sys.stdout\n",
    "reload(sys)\n",
    "sys.setdefaultencoding('utf-8')\n",
    "sys.stdout = stdout"
   ]
  },
  {
   "cell_type": "code",
   "execution_count": 34,
   "metadata": {
    "collapsed": true
   },
   "outputs": [],
   "source": [
    "import pickle\n",
    "import gensim\n",
    "import multiprocessing\n",
    "from konlpy.tag import Mecab\n",
    "from gensim.models import Word2Vec\n",
    "from gensim.models import word2vec\n",
    "from gensim.models.keyedvectors import KeyedVectors"
   ]
  },
  {
   "cell_type": "code",
   "execution_count": 35,
   "metadata": {
    "collapsed": true
   },
   "outputs": [],
   "source": [
    "text = []\n",
    "mecab = Mecab()\n",
    "\n",
    "for news_name in ['joongang_full'] :\n",
    "    with open('./Data/news/'+ news_name + '.txt', 'r') as f:\n",
    "            lines = f.read()\n",
    "            sentences = lines.split('.')\n",
    "            for i in range(len(sentences)):\n",
    "                dic = mecab.morphs(sentences[i])\n",
    "                dicSize = len(dic)\n",
    "                \n",
    "                for idx in range(dicSize):\n",
    "                    dic[idx] = dic[idx].encode('utf-8')\n",
    "                    \n",
    "                for idx in range(dicSize-1):\n",
    "                    if(idx==dicSize):\n",
    "                            break\n",
    "\n",
    "                    else:\n",
    "                        if(dic[idx]=='새' and dic[(idx+1)]=='정치') :\n",
    "                            dic.remove('새')\n",
    "                            dic.remove('정치')\n",
    "                            dic.insert(idx,\"새정치\")\n",
    "                            dicSize = dicSize-1\n",
    "                text.append(dic)\n",
    "                \n",
    "                \n",
    "\n",
    "with open(\"preprocessedText.txt\", \"wb\") as fp:   #Pickling\n",
    "    pickle.dump(text, fp)\n",
    "# with open(\"preprocessedText.txt\", \"rb\") as fp:   # Unpickling\n",
    "  #  loadedText = pickle.load(fp)"
   ]
  },
  {
   "cell_type": "code",
   "execution_count": 36,
   "metadata": {
    "scrolled": true
   },
   "outputs": [
    {
     "name": "stdout",
     "output_type": "stream",
     "text": [
      "word2vec success\n",
      "model.wv assign success\n",
      "model saved success\n"
     ]
    }
   ],
   "source": [
    "modelCbow= Word2Vec(text, min_count=15, size = 300, sg=0, iter= 5) #sg=0 : cbow\n",
    "modelSkip = Word2Vec(text, min_count=15, size = 300, sg=1, iter= 5) #sg=1 : skip gram\n",
    "print(\"word2vec success\")\n",
    "\n",
    "vectorsCbow = modelCbow.wv\n",
    "vectorsSkip = modelSkip.wv\n",
    "print(\"model.wv assign success\")\n",
    "\n",
    "vectorsCbow.save('modelCbow.bin')\n",
    "vectorsSkip.save('modelSkip.bin')\n",
    "print(\"model saved success\")\n"
   ]
  },
  {
   "cell_type": "markdown",
   "metadata": {},
   "source": [
    "# Loading and Result"
   ]
  },
  {
   "cell_type": "markdown",
   "metadata": {},
   "source": [
    "**loading models**"
   ]
  },
  {
   "cell_type": "code",
   "execution_count": 37,
   "metadata": {
    "collapsed": true
   },
   "outputs": [],
   "source": [
    "word_vectors = KeyedVectors.load('modelCbow.bin')"
   ]
  },
  {
   "cell_type": "code",
   "execution_count": null,
   "metadata": {
    "collapsed": true
   },
   "outputs": [],
   "source": []
  },
  {
   "cell_type": "markdown",
   "metadata": {},
   "source": [
    "**word similarity**"
   ]
  },
  {
   "cell_type": "code",
   "execution_count": 48,
   "metadata": {},
   "outputs": [
    {
     "name": "stdout",
     "output_type": "stream",
     "text": [
      "[박근혜]'s most similar: [[('\\xed\\x91\\xb8\\xed\\x8b\\xb4', 0.7636122703552246), ('\\xeb\\x85\\xb8\\xeb\\xac\\xb4\\xed\\x98\\x84', 0.7459133863449097), ('\\xeb\\xb0\\x95', 0.7206233143806458)]]\n",
      "박\n"
     ]
    }
   ],
   "source": [
    "name_list = [\"박근혜\",\"오바마\",\"김정은\",\"아베\",\"청와대\",\"백악관\",\"새누리당\",\"최순실\"]\n",
    "\n",
    "similarity_list = []\n",
    "for name in name_list:\n",
    "    w = word_vectors.most_similar(name, topn=1)\n",
    "    similarity_list.append(\"[%s]'s most similar: [%s]\" % (name, w))    "
   ]
  },
  {
   "cell_type": "markdown",
   "metadata": {},
   "source": [
    "**word analogy**"
   ]
  },
  {
   "cell_type": "code",
   "execution_count": 25,
   "metadata": {},
   "outputs": [
    {
     "ename": "NameError",
     "evalue": "global name 'model' is not defined",
     "output_type": "error",
     "traceback": [
      "\u001b[0;31m---------------------------------------------------------------------------\u001b[0m",
      "\u001b[0;31mNameError\u001b[0m                                 Traceback (most recent call last)",
      "\u001b[0;32m<ipython-input-25-bf729d354e3f>\u001b[0m in \u001b[0;36m<module>\u001b[0;34m()\u001b[0m\n\u001b[1;32m      7\u001b[0m                 [\"김무성\",\"새정치\",\"새누리당\"],[\"보수\",\"새정치\",\"새누리당\"]]\n\u001b[1;32m      8\u001b[0m \u001b[0;34m\u001b[0m\u001b[0m\n\u001b[0;32m----> 9\u001b[0;31m \u001b[0md\u001b[0m \u001b[0;34m=\u001b[0m \u001b[0;34m{\u001b[0m\u001b[0;34m\"[%s+%s-%s]\"\u001b[0m\u001b[0;34m%\u001b[0m\u001b[0;34m(\u001b[0m\u001b[0mwords\u001b[0m\u001b[0;34m[\u001b[0m\u001b[0;36m0\u001b[0m\u001b[0;34m]\u001b[0m\u001b[0;34m,\u001b[0m\u001b[0mwords\u001b[0m\u001b[0;34m[\u001b[0m\u001b[0;36m1\u001b[0m\u001b[0;34m]\u001b[0m\u001b[0;34m,\u001b[0m\u001b[0mwords\u001b[0m\u001b[0;34m[\u001b[0m\u001b[0;36m2\u001b[0m\u001b[0;34m]\u001b[0m\u001b[0;34m)\u001b[0m\u001b[0;34m:\u001b[0m\u001b[0mword_analogy\u001b[0m\u001b[0;34m(\u001b[0m\u001b[0mwords\u001b[0m\u001b[0;34m[\u001b[0m\u001b[0;36m0\u001b[0m\u001b[0;34m]\u001b[0m\u001b[0;34m,\u001b[0m\u001b[0mwords\u001b[0m\u001b[0;34m[\u001b[0m\u001b[0;36m1\u001b[0m\u001b[0;34m]\u001b[0m\u001b[0;34m,\u001b[0m\u001b[0mwords\u001b[0m\u001b[0;34m[\u001b[0m\u001b[0;36m2\u001b[0m\u001b[0;34m]\u001b[0m\u001b[0;34m)\u001b[0m \u001b[0;32mfor\u001b[0m \u001b[0mwords\u001b[0m \u001b[0;32min\u001b[0m \u001b[0mwords_list\u001b[0m\u001b[0;34m}\u001b[0m\u001b[0;34m\u001b[0m\u001b[0m\n\u001b[0m\u001b[1;32m     10\u001b[0m \u001b[0;34m\u001b[0m\u001b[0m\n\u001b[1;32m     11\u001b[0m \u001b[0;32mfor\u001b[0m \u001b[0mkey\u001b[0m \u001b[0;32min\u001b[0m \u001b[0md\u001b[0m\u001b[0;34m:\u001b[0m\u001b[0;34m\u001b[0m\u001b[0m\n",
      "\u001b[0;32m<ipython-input-25-bf729d354e3f>\u001b[0m in \u001b[0;36m<dictcomp>\u001b[0;34m((words,))\u001b[0m\n\u001b[1;32m      7\u001b[0m                 [\"김무성\",\"새정치\",\"새누리당\"],[\"보수\",\"새정치\",\"새누리당\"]]\n\u001b[1;32m      8\u001b[0m \u001b[0;34m\u001b[0m\u001b[0m\n\u001b[0;32m----> 9\u001b[0;31m \u001b[0md\u001b[0m \u001b[0;34m=\u001b[0m \u001b[0;34m{\u001b[0m\u001b[0;34m\"[%s+%s-%s]\"\u001b[0m\u001b[0;34m%\u001b[0m\u001b[0;34m(\u001b[0m\u001b[0mwords\u001b[0m\u001b[0;34m[\u001b[0m\u001b[0;36m0\u001b[0m\u001b[0;34m]\u001b[0m\u001b[0;34m,\u001b[0m\u001b[0mwords\u001b[0m\u001b[0;34m[\u001b[0m\u001b[0;36m1\u001b[0m\u001b[0;34m]\u001b[0m\u001b[0;34m,\u001b[0m\u001b[0mwords\u001b[0m\u001b[0;34m[\u001b[0m\u001b[0;36m2\u001b[0m\u001b[0;34m]\u001b[0m\u001b[0;34m)\u001b[0m\u001b[0;34m:\u001b[0m\u001b[0mword_analogy\u001b[0m\u001b[0;34m(\u001b[0m\u001b[0mwords\u001b[0m\u001b[0;34m[\u001b[0m\u001b[0;36m0\u001b[0m\u001b[0;34m]\u001b[0m\u001b[0;34m,\u001b[0m\u001b[0mwords\u001b[0m\u001b[0;34m[\u001b[0m\u001b[0;36m1\u001b[0m\u001b[0;34m]\u001b[0m\u001b[0;34m,\u001b[0m\u001b[0mwords\u001b[0m\u001b[0;34m[\u001b[0m\u001b[0;36m2\u001b[0m\u001b[0;34m]\u001b[0m\u001b[0;34m)\u001b[0m \u001b[0;32mfor\u001b[0m \u001b[0mwords\u001b[0m \u001b[0;32min\u001b[0m \u001b[0mwords_list\u001b[0m\u001b[0;34m}\u001b[0m\u001b[0;34m\u001b[0m\u001b[0m\n\u001b[0m\u001b[1;32m     10\u001b[0m \u001b[0;34m\u001b[0m\u001b[0m\n\u001b[1;32m     11\u001b[0m \u001b[0;32mfor\u001b[0m \u001b[0mkey\u001b[0m \u001b[0;32min\u001b[0m \u001b[0md\u001b[0m\u001b[0;34m:\u001b[0m\u001b[0;34m\u001b[0m\u001b[0m\n",
      "\u001b[0;32m<ipython-input-25-bf729d354e3f>\u001b[0m in \u001b[0;36mword_analogy\u001b[0;34m(w1, w2, w3)\u001b[0m\n\u001b[1;32m      1\u001b[0m \u001b[0;32mdef\u001b[0m \u001b[0mword_analogy\u001b[0m\u001b[0;34m(\u001b[0m\u001b[0mw1\u001b[0m\u001b[0;34m,\u001b[0m \u001b[0mw2\u001b[0m\u001b[0;34m,\u001b[0m \u001b[0mw3\u001b[0m\u001b[0;34m)\u001b[0m\u001b[0;34m:\u001b[0m\u001b[0;34m\u001b[0m\u001b[0m\n\u001b[0;32m----> 2\u001b[0;31m     \u001b[0;32mreturn\u001b[0m \u001b[0mmodel\u001b[0m\u001b[0;34m.\u001b[0m\u001b[0mmost_simlar\u001b[0m\u001b[0;34m(\u001b[0m\u001b[0mpositive\u001b[0m\u001b[0;34m=\u001b[0m\u001b[0;34m[\u001b[0m\u001b[0mw1\u001b[0m\u001b[0;34m,\u001b[0m \u001b[0mw2\u001b[0m\u001b[0;34m]\u001b[0m\u001b[0;34m,\u001b[0m \u001b[0mnegative\u001b[0m\u001b[0;34m=\u001b[0m\u001b[0;34m[\u001b[0m\u001b[0mw3\u001b[0m\u001b[0;34m]\u001b[0m\u001b[0;34m,\u001b[0m \u001b[0mtopn\u001b[0m\u001b[0;34m=\u001b[0m\u001b[0;36m1\u001b[0m\u001b[0;34m)\u001b[0m\u001b[0;34m\u001b[0m\u001b[0m\n\u001b[0m\u001b[1;32m      3\u001b[0m \u001b[0;34m\u001b[0m\u001b[0m\n\u001b[1;32m      4\u001b[0m words_list = [[\"서울\",\"일본\",\"한국\"],[\"서울\",\"미국\",\"한국\"],[\"서울\",\"북한\",\"한국\"],\n\u001b[1;32m      5\u001b[0m                 \u001b[0;34m[\u001b[0m\u001b[0;34m\"박근혜\"\u001b[0m\u001b[0;34m,\u001b[0m\u001b[0;34m\"일본\"\u001b[0m\u001b[0;34m,\u001b[0m\u001b[0;34m\"한국\"\u001b[0m\u001b[0;34m]\u001b[0m\u001b[0;34m,\u001b[0m\u001b[0;34m[\u001b[0m\u001b[0;34m\"박근혜\"\u001b[0m\u001b[0;34m,\u001b[0m\u001b[0;34m\"미국\"\u001b[0m\u001b[0;34m,\u001b[0m\u001b[0;34m\"한국\"\u001b[0m\u001b[0;34m]\u001b[0m\u001b[0;34m,\u001b[0m\u001b[0;34m[\u001b[0m\u001b[0;34m\"박근혜\"\u001b[0m\u001b[0;34m,\u001b[0m\u001b[0;34m\"북한\"\u001b[0m\u001b[0;34m,\u001b[0m\u001b[0;34m\"한국\"\u001b[0m\u001b[0;34m]\u001b[0m\u001b[0;34m,\u001b[0m\u001b[0;34m\u001b[0m\u001b[0m\n",
      "\u001b[0;31mNameError\u001b[0m: global name 'model' is not defined"
     ]
    }
   ],
   "source": [
    "def word_analogy(w1, w2, w3):\n",
    "    return model.most_simlar(positive=[w1, w2], negative=[w3], topn=1)\n",
    "\n",
    "words_list = [[\"서울\",\"일본\",\"한국\"],[\"서울\",\"미국\",\"한국\"],[\"서울\",\"북한\",\"한국\"],\n",
    "                [\"박근혜\",\"일본\",\"한국\"],[\"박근혜\",\"미국\",\"한국\"],[\"박근혜\",\"북한\",\"한국\"],\n",
    "                [\"새누리당\",\"미국\",\"한국\"],[\"청와대\",\"미국\",\"한국\"],[\"민주주의\",\"북한\",\"한국\"],\n",
    "                [\"김무성\",\"새정치\",\"새누리당\"],[\"보수\",\"새정치\",\"새누리당\"]]\n",
    "\n",
    "for element in words_list:\n",
    "    for idx in range(len(element)):\n",
    "        element[idx] = element[idx].encode(\"utf-8\")\n",
    "\n",
    "d = {\"[%s+%s-%s]\"%(words[0],words[1],words[2]):word_analogy(words[0],words[1],words[2]) for words in words_list}\n",
    "\n",
    "for key in d:\n",
    "    print key, 'corresponds to', d[key]\n"
   ]
  },
  {
   "cell_type": "markdown",
   "metadata": {},
   "source": [
    "---"
   ]
  },
  {
   "cell_type": "code",
   "execution_count": 32,
   "metadata": {
    "collapsed": true
   },
   "outputs": [],
   "source": [
    "# word_analogy(\"서울\",\"일본\",\"한국\")\n",
    "# word_analogy(\"서울\",\"미국\",\"한국\")\n",
    "# word_analogy(\"서울\",\"미국\",\"한국\")\n",
    "\n",
    "# analogy_list.append(model.most_similar(positive=['서울', '일본'], negative=['한국'], topn=1))\n",
    "# analogy_list.append(model.most_similar(positive=['서울', '미국'], negative=['한국'], topn=1))\n",
    "# analogy_list.append(model.most_similar(positive=['서울', '북한'], negative=['한국'], topn=1))\n",
    "# analogy_list.append(model.most_similar(positive=['박근혜', '일본'], negative=['한국'], topn=1))\n",
    "# analogy_list.append(model.most_similar(positive=['박근혜', '미국'], negative=['한국'], topn=1))\n",
    "# analogy_list.append(model.most_similar(positive=['박근혜', '북한'], negative=['한국'], topn=1))\n",
    "# analogy_list.append(model.most_similar(positive=['새누리당', '미국'], negative=['한국'], topn=1))\n",
    "# analogy_list.append(model.most_similar(positive=['새정치', '미국'], negative=['한국'], topn=1))\n",
    "# analogy_list.append(model.most_similar(positive=['청와대', '미국'], negative=['한국'], topn=1))\n",
    "# analogy_list.append(model.most_similar(positive=['민주주의', '북한'], negative=['한국'], topn=1))\n",
    "# analogy_list.append(model.most_similar(positive=['김무성', '새정치'], negative=['새누리당'], topn=1))\n",
    "# analogy_list.append(model.most_similar(positive=['보수', '새정치'], negative=['새누리당'], topn=1))\n",
    "\n",
    "# for i in range(len(analogy_list)):\n",
    "#     print(analogy_list[i])"
   ]
  },
  {
   "cell_type": "code",
   "execution_count": null,
   "metadata": {
    "collapsed": true
   },
   "outputs": [],
   "source": []
  }
 ],
 "metadata": {
  "kernelspec": {
   "display_name": "Python 2",
   "language": "python",
   "name": "python2"
  },
  "language_info": {
   "codemirror_mode": {
    "name": "ipython",
    "version": 2
   },
   "file_extension": ".py",
   "mimetype": "text/x-python",
   "name": "python",
   "nbconvert_exporter": "python",
   "pygments_lexer": "ipython2",
   "version": "2.7.12"
  }
 },
 "nbformat": 4,
 "nbformat_minor": 2
}
