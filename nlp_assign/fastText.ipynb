{
 "cells": [
  {
   "cell_type": "code",
   "execution_count": 1,
   "metadata": {
    "collapsed": true
   },
   "outputs": [],
   "source": [
    "import fasttext\n",
    "import codecs\n",
    "\n",
    "import sys\n",
    "stdout = sys.stdout\n",
    "reload(sys)\n",
    "sys.setdefaultencoding('utf-8')\n",
    "sys.stdout = stdout\n",
    "\n",
    "\n",
    "import multiprocessing\n",
    "from gensim.models import KeyedVectors\n"
   ]
  },
  {
   "cell_type": "code",
   "execution_count": null,
   "metadata": {
    "collapsed": true
   },
   "outputs": [],
   "source": [
    "skipgram = fasttext.skipgram(\"../articlesMorphs.txt\",\"fastSkip\",dim=300,epoch=10)\n",
    "print(\"fastSkip model saved!!!\")\n",
    "cbow = fasttext.cbow(\"../articlesMorphs.txt\",\"fastCbow\",dim=300,epoch=10)\n",
    "print(\"fastCbow model saved!!!\")\n",
    "\n",
    "\n",
    "model1 = KeyedVectors.load_word2vec_format('fastSkip.vec')\n",
    "print(\"fastSkip model loaded\")\n",
    "model2 = KeyedVectors.load_word2vec_format('fastCbow.vec')\n",
    "print(\"fastCbow model loaded\")\n",
    "\n"
   ]
  },
  {
   "cell_type": "code",
   "execution_count": null,
   "metadata": {
    "collapsed": true
   },
   "outputs": [],
   "source": [
    "name_list = [\"박근혜\",\"오바마\",\"김정은\",\"아베\",\"청와대\",\"백악관\",\"새누리당\",\"최순실\"]\n",
    "\n",
    "for idx in range(len(name_list)):\n",
    "    name_list[idx] = name_list[idx].encode(\"utf-8\")\n",
    "\n",
    "similarity_list = []\n",
    "for name in name_list:\n",
    "    name = name.encode(\"utf-8\")\n",
    "    w = word_vectors.most_similar(name, topn=1)\n",
    "    w1 = w[0][0]\n",
    "    w2 = w[0][1]\n",
    "    print \"[%s]'s most similar: [%s]\" %(name, w1),\n",
    "    print(w2)\n",
    "    similarity_list.append(\"[%s]'s most similar: [%s]\" % (name, (w)))\n",
    "    \n"
   ]
  },
  {
   "cell_type": "code",
   "execution_count": null,
   "metadata": {
    "collapsed": true
   },
   "outputs": [],
   "source": [
    "def word_analogy(w1, w2, w3):\n",
    "    return word_vectors.most_similar(positive=[w1, w2], negative=[w3], topn=1)\n",
    "\n",
    "words_list = [[\"서울\",\"일본\",\"한국\"],[\"서울\",\"미국\",\"한국\"],[\"서울\",\"북한\",\"한국\"],\n",
    "                [\"박근혜\",\"일본\",\"한국\"],[\"박근혜\",\"미국\",\"한국\"],[\"박근혜\",\"북한\",\"한국\"],\n",
    "                [\"새누리당\",\"미국\",\"한국\"],[\"청와대\",\"미국\",\"한국\"],[\"민주주의\",\"북한\",\"한국\"],\n",
    "                [\"김무성\",\"새정치\",\"새누리당\"],[\"보수\",\"새정치\",\"새누리당\"]]\n",
    "\n",
    "for element in words_list:\n",
    "    for idx in range(len(element)):\n",
    "        element[idx] = element[idx].encode(\"utf-8\")\n",
    "\n",
    "d = {\"%s+%s-%s\"%(words[0],words[1],words[2]):word_analogy(words[0],words[1],words[2])[0][0] for words in words_list}\n",
    "\n",
    "for key in d:\n",
    "    print \"[%s] corresponds to [%s]\" % (key, d[key])\n"
   ]
  }
 ],
 "metadata": {
  "kernelspec": {
   "display_name": "Python 2",
   "language": "python",
   "name": "python2"
  },
  "language_info": {
   "codemirror_mode": {
    "name": "ipython",
    "version": 2
   },
   "file_extension": ".py",
   "mimetype": "text/x-python",
   "name": "python",
   "nbconvert_exporter": "python",
   "pygments_lexer": "ipython2",
   "version": "2.7.12"
  }
 },
 "nbformat": 4,
 "nbformat_minor": 2
}
