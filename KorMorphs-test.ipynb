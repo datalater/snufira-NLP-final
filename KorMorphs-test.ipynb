{
 "cells": [
  {
   "cell_type": "code",
   "execution_count": 2,
   "metadata": {},
   "outputs": [],
   "source": [
    "# -*- coding: utf-8 -*- \n",
    "\n",
    "'''\n",
    "\n",
    "author@hpshin\n",
    "한국어 형태소 분석 모듈 for Word2Vec\n",
    "konlpy를 사용하고 Twitter/Mecab형태소 분석기 사용\n",
    "원래 컴파일시  유니코드 아스키 에러가 나기 때문에 \n",
    "앞의 sys와 reload(sys)로 해결\n",
    "\n",
    "'''\n",
    "\n",
    "import codecs\n",
    "\n",
    "import sys\n",
    "reload(sys)\n",
    "sys.setdefaultencoding('utf8')\n",
    "\n",
    "#from konlpy.tag import Twitter\n",
    "\n",
    "from konlpy.tag import Mecab\n",
    "\n",
    "tagger = Mecab()\n",
    "\n",
    "# 각자의 한글 데이터 파일을 열고 형태소 분석 후 쓸 파일 정함\n",
    "corpusIn =codecs.open('joongang_full_out.txt', 'rU', encoding='utf-8')\n",
    "corpusOut = codecs.open('joongang_full_out.txtNoTagNoStop.txt','w', encoding='utf-8')\n",
    "\n",
    "#단어/tag형태로 출력하는 함수\n",
    "def getTag(content):\n",
    "    return [\"{}/{}\".format(word, tag) for word, tag in tagger.pos(content)]\n",
    "   \n",
    "for line in corpusIn:\n",
    "\tword = line.split()\n",
    "\t\n",
    "\tfor num in word:\n",
    "\t\tcorpusOut.write(' '.join(getTag(num))+ ' ')\n",
    "        corpusOut.write('\\n')"
   ]
  },
  {
   "cell_type": "code",
   "execution_count": null,
   "metadata": {
    "collapsed": true
   },
   "outputs": [],
   "source": []
  }
 ],
 "metadata": {
  "kernelspec": {
   "display_name": "Python 2",
   "language": "python",
   "name": "python2"
  },
  "language_info": {
   "codemirror_mode": {
    "name": "ipython",
    "version": 2
   },
   "file_extension": ".py",
   "mimetype": "text/x-python",
   "name": "python",
   "nbconvert_exporter": "python",
   "pygments_lexer": "ipython2",
   "version": "2.7.12"
  }
 },
 "nbformat": 4,
 "nbformat_minor": 2
}
